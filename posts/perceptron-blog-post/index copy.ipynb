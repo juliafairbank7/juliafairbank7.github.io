{
 "cells": [
  {
   "cell_type": "raw",
   "metadata": {},
   "source": [
    "---\n",
    "title: Perceptron\n",
    "author: Julia Fairbank\n",
    "date: '2023-02-28'\n",
    "image: \"image.jpg\"\n",
    "description: \"Implementing the perceptron algorithm using numerical programming and demonstrate its use on synthetic data sets, CSCI 0451.\"\n",
    "format: html\n",
    "---"
   ]
  },
  {
   "cell_type": "code",
   "execution_count": 1,
   "metadata": {},
   "outputs": [
    {
     "data": {
      "text/plain": [
       "'CSCI 0451'"
      ]
     },
     "execution_count": 1,
     "metadata": {},
     "output_type": "execute_result"
    }
   ],
   "source": [
    "\"CSCI\" + \" 0451\""
   ]
  },
  {
   "cell_type": "code",
   "execution_count": null,
   "metadata": {},
   "outputs": [
    {
     "ename": "",
     "evalue": "",
     "output_type": "error",
     "traceback": [
      "\u001b[1;31mRunning cells with 'Python 3.8.2 64-bit' requires ipykernel package.\n",
      "\u001b[1;31mRun the following command to install 'ipykernel' into the Python environment. \n",
      "\u001b[1;31mCommand: '/usr/bin/python3 -m pip install ipykernel -U --user --force-reinstall'"
     ]
    }
   ],
   "source": [
    "from perceptron import Perceptron"
   ]
  },
  {
   "attachments": {},
   "cell_type": "markdown",
   "metadata": {},
   "source": [
    "## Perceptron Algorithm\n",
    "\n",
    "# fit()\n",
    "\n",
    "Perceptron.fit(X, y) is my primary method. When p.fit(X, y) is called, p should have an instance variable of weights called w. This w is the vector in the classifier above. Additionally, p should have an instance variable called p.history which is a list of the evolution of the score over the training period. "
   ]
  },
  {
   "cell_type": "code",
   "execution_count": null,
   "metadata": {},
   "outputs": [],
   "source": [
    "\n",
    "def fit(self, X, y, max_steps=1000):\n",
    "    #preprocess X by padding with 1s\n",
    "    X_hat = np.append(X, np.ones((X.shape[0], 1)), 1)\n",
    "       \n",
    "     #make -1 or +1 \n",
    "    y_hat = y*2-1\n",
    "    \n",
    "    #initialize random w vector\n",
    "    self.w_hat = np.random.rand(X_hat.shape[1]) \n",
    "    self.history = []\n",
    "        \n",
    "    for _ in range(max_steps):\n",
    "    \n",
    "        i = np.random.randint(0, X.shape[0])\n",
    "            \n",
    "        #update\n",
    "        self.w_hat = (\n",
    "            self.w_hat \n",
    "            + ((y_hat[i]*np.dot(self.w_hat, X_hat[i]) <0)*1)\n",
    "            * y_hat[i]\n",
    "            * X_hat[i]\n",
    "        )\n",
    "            \n",
    "        loss = 1 - self.score(X, y)\n",
    "        self.history.append(loss)\n",
    "            \n",
    "        if loss == 0:\n",
    "            break"
   ]
  },
  {
   "cell_type": "markdown",
   "metadata": {},
   "source": [
    "# predict()\n",
    "\n",
    "Perceptron.predict(X) returns a vector of predicted labels on the data. "
   ]
  },
  {
   "cell_type": "code",
   "execution_count": null,
   "metadata": {},
   "outputs": [],
   "source": [
    "def predict(self, X):\n",
    "     #preprocess X by padding with 1s\n",
    "    X_hat = np.append(X, np.ones((X.shape[0], 1)), 1)\n",
    "        \n",
    "    prediction_vector = X_hat @ self.w_hat\n",
    "        \n",
    "    prediction_vector = prediction_vector > 0 #true false\n",
    "        \n",
    "    prediction_vector = prediction_vector * 1 #1 0\n",
    "        \n",
    "    return prediction_vector"
   ]
  },
  {
   "cell_type": "markdown",
   "metadata": {},
   "source": [
    "# score()\n",
    "\n",
    "Perceptron.score(X, y) returns the accuracy of the perceptron as a number between 0 and 1, with 1 corresponding to perfect classification."
   ]
  },
  {
   "cell_type": "code",
   "execution_count": null,
   "metadata": {},
   "outputs": [],
   "source": [
    "def score(self, X, y):\n",
    "    #preprocess X by padding with 1s\n",
    "    X_hat = np.append(X, np.ones((X.shape[0], 1)), 1)\n",
    "        \n",
    "    predictions = self.predict(X)\n",
    "        \n",
    "    accuracy = predictions == y \n",
    "        \n",
    "    accuracy = accuracy * 1\n",
    "        \n",
    "    accuracy = accuracy.mean()\n",
    "        \n",
    "    return accuracy"
   ]
  },
  {
   "cell_type": "markdown",
   "metadata": {},
   "source": [
    "# Perceptron on Linearly Separable Data"
   ]
  },
  {
   "cell_type": "code",
   "execution_count": null,
   "metadata": {},
   "outputs": [],
   "source": [
    "import numpy as np\n",
    "import pandas as pd\n",
    "import seaborn as sns\n",
    "from matplotlib import pyplot as plt\n",
    "\n",
    "from sklearn.datasets import make_blobs\n",
    "\n",
    "np.random.seed(12345)\n",
    "\n",
    "n = 100\n",
    "p_features = 3\n",
    "\n",
    "X, y = make_blobs(n_samples = 100, n_features = p_features - 1, centers = [(-1.7, -1.7), (1.7, 1.7)])\n",
    "\n",
    "fig = plt.scatter(X[:,0], X[:,1], c = y)\n",
    "xlab = plt.xlabel(\"Feature 1\")\n",
    "ylab = plt.ylabel(\"Feature 2\")\n",
    "title = plt.gca().set(title = \"Data Points\")"
   ]
  },
  {
   "cell_type": "code",
   "execution_count": null,
   "metadata": {},
   "outputs": [],
   "source": [
    "fig = plt.plot(p.history)\n",
    "xlab = plt.xlabel(\"Iteration\")\n",
    "ylab = plt.ylabel(\"Loss\")"
   ]
  },
  {
   "cell_type": "code",
   "execution_count": null,
   "metadata": {},
   "outputs": [],
   "source": [
    "def draw_line(w, x_min, x_max):\n",
    "    x = np.linspace(x_min, x_max, 101)\n",
    "    y = -(w[0]*x + w[2])/w[1]\n",
    "    plt.plot(x, y, color = \"black\")\n",
    "\n",
    "fig = plt.scatter(X[:,0], X[:,1], c = y)\n",
    "fig = draw_line(p.w_hat, -2, 2)\n",
    "\n",
    "xlab = plt.xlabel(\"Feature 1\")\n",
    "ylab = plt.ylabel(\"Feature 2\")\n"
   ]
  },
  {
   "cell_type": "markdown",
   "metadata": {},
   "source": [
    "# Perceptron on Non-Linearly Separable Data"
   ]
  },
  {
   "cell_type": "code",
   "execution_count": null,
   "metadata": {},
   "outputs": [],
   "source": [
    "from sklearn.datasets import make_circles\n",
    "\n",
    "X_c, y_c = make_circles(n_samples=400, factor=.3, noise=.05)\n",
    "\n",
    "fig = plt.scatter(X_c[:,0], X_c[:,1], c = y_c)\n",
    "xlab = plt.xlabel(\"Feature 1\")\n",
    "ylab = plt.ylabel(\"Feature 2\")"
   ]
  },
  {
   "cell_type": "code",
   "execution_count": null,
   "metadata": {},
   "outputs": [],
   "source": [
    "p = Perceptron()\n",
    "p.fit(X_c, y_c, max_steps=1000)"
   ]
  },
  {
   "cell_type": "code",
   "execution_count": null,
   "metadata": {},
   "outputs": [],
   "source": [
    "def draw_line(w, x_min, x_max):\n",
    "    x = np.linspace(x_min, x_max, 101)\n",
    "    y = -(w[0]*x + w[2])/w[1]\n",
    "    plt.plot(x, y, color = \"black\")\n",
    "\n",
    "fig = plt.scatter(X_c[:,0], X_c[:,1], c = y_c)\n",
    "fig = draw_line(p.w_hat, -2, 2)\n",
    "\n",
    "xlab = plt.xlabel(\"Feature 1\")\n",
    "ylab = plt.ylabel(\"Feature 2\")"
   ]
  },
  {
   "cell_type": "markdown",
   "metadata": {},
   "source": [
    "# Perceptron on 5-Dimensional Data"
   ]
  },
  {
   "cell_type": "code",
   "execution_count": null,
   "metadata": {},
   "outputs": [],
   "source": [
    "np.random.seed(12345)\n",
    "\n",
    "n = 100\n",
    "p_features = 3\n",
    "\n",
    "X_5, y_5 = make_blobs(n_samples = 100, n_features = p_features - 1, centers = [(-1.7, -1.7, -3, 4, 1), (1.7, 1.7, 1, 53, 5)])"
   ]
  },
  {
   "cell_type": "code",
   "execution_count": null,
   "metadata": {},
   "outputs": [],
   "source": [
    "p = Perceptron()\n",
    "p.fit(X_5, y_5, max_steps=1000)"
   ]
  },
  {
   "cell_type": "code",
   "execution_count": null,
   "metadata": {},
   "outputs": [],
   "source": [
    "fig = plt.plot(p.history)\n",
    "xlab = plt.xlabel(\"Iteration\")\n",
    "ylab = plt.ylabel(\"Loss\")"
   ]
  },
  {
   "cell_type": "code",
   "execution_count": null,
   "metadata": {},
   "outputs": [],
   "source": []
  }
 ],
 "metadata": {
  "kernelspec": {
   "display_name": "Python 3.8.2 64-bit",
   "language": "python",
   "name": "python3"
  },
  "language_info": {
   "codemirror_mode": {
    "name": "ipython",
    "version": 3
   },
   "file_extension": ".py",
   "mimetype": "text/x-python",
   "name": "python",
   "nbconvert_exporter": "python",
   "pygments_lexer": "ipython3",
   "version": "3.8.2"
  },
  "orig_nbformat": 4,
  "vscode": {
   "interpreter": {
    "hash": "31f2aee4e71d21fbe5cf8b01ff0e069b9275f58929596ceb00d14d90e3e16cd6"
   }
  }
 },
 "nbformat": 4,
 "nbformat_minor": 2
}
