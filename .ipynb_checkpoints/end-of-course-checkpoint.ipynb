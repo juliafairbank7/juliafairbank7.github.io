{
 "cells": [
  {
   "cell_type": "markdown",
   "metadata": {},
   "source": [
    "# CSCI 0451: End-Of-Course Reflection\n",
    "\n",
    "Julia Fairbank"
   ]
  },
  {
   "cell_type": "markdown",
   "metadata": {},
   "source": [
    "## The Data\n",
    "\n",
    "### Presence in Class\n",
    "\n",
    "- *How often did you attend class? (e.g. \"almost always,\" \"I missed three times,\" etc.)* I missed class three times. \n",
    "- *How often did you take notes on the core readings ahead of the class period?* Almost always\n",
    "- *How often were you **prepared** to present the daily warm-up exercise to your team, even if you weren't actually called?* Most times, there were around 3 times I wasn't prepared.\n",
    "- *How many times did you **actually** present the daily warm-up to your team?* I believe I was called to present five times. \n",
    "- *How many times did you ask your team for help while presenting the daily warm-up?* Never.\n",
    "- *How often did you learn something new from a teammate's presentation of the daily warm-up?* Almost always.\n",
    "- *How often did you help a teammate during the daily warm-up presentation?* A few times. \n",
    "- *Did you contribute a question for our guest speaker?* I did, but wasn't called on. \n",
    "\n",
    "### Presence Outside of Class \n",
    "\n",
    "- *How often did you attend Student Hours or Peer Help?* I attended Peer Help around 7 times. \n",
    "- *How often did you ask for or receive help from your fellow students?* I collaborated with my classmates probably 4 times over the semester.\n",
    "- *Did you regularly participate in a study group outside class?* No.\n",
    "- *How often did you post questions or answers in Slack?* Around 3 times, but typically was able to answer them myself or in Peer Help.  \n",
    "\n",
    "### Assignments and Effort\n",
    "\n",
    "- *How many blog posts did you submit?* 6\n",
    "- *How many of your submitted blog posts are at each of the following feedback stages?* I submitted revisions in line with my comments on blog posts that received \"Revisions Encouraged\" but haven't received updated feedback on those posts yet. As it currently stands, \n",
    "    - *No revisions suggested:* 3\n",
    "    - *Revisions useful:* 0\n",
    "    - *Revisions encouraged:* 3\n",
    "    - *Incomplete:* 3\n",
    "- *Roughly how many hours per week did you spend on this course outside of class?* Around 6-8 per week.\n"
   ]
  },
  {
   "cell_type": "markdown",
   "metadata": {},
   "source": [
    "## What You Learned\n",
    "\n",
    "*At the beginning of the course, you may have expressed an interest in focusing a little extra on one or two of the following four categories:* \n",
    "\n",
    "- ***Theory***: *mathematical descriptions of frameworks and algorithms.*\n",
    "- ***Implementation***: *effective coding and use of tools in order to implement efficient machine learning algorithms.*\n",
    "- ***Experimentation***: *performing experiments to assess the performance of algorithms and clearly communicating about the results.*\n",
    "- ***Social responsibility***: *critical analysis of sources of bias and harm in machine learning algorithms; theoretical formulations of fairness and bias*\n",
    "\n",
    "*Did you choose to focus on any of these categories? If so, what did you do in order to pursue your interest?*    "
   ]
  },
  {
   "cell_type": "markdown",
   "metadata": {},
   "source": [
    "I chose to focus on to focus on implementation and spent a lot of time working with Peer Help to revise my code and blog posts so that my work was efficient and logical. I am very pleased that I chose to focus on this because I've noticed through my work on the final project and later blog posts that I am writing in less lines that are more logical and easy to follow. "
   ]
  },
  {
   "cell_type": "markdown",
   "metadata": {},
   "source": [
    "## Reflecting on Goals\n",
    "\n",
    "*For each of the categories below, replace the \"[your response here]\" cell with 1-2 paragraphs in which you reflect on the following questions:* \n",
    "\n",
    "- *In what ways did you **meet** your goals from the beginning of the course? Be specific: explain what the goal was and what you did to meet it.* \n",
    "- *In what ways did you **not meet** your goals from the beginning of the course? Be specific: explain what the goal was and what the gap was between what you aspired to and what happened.* \n",
    "- *If there's any **context** you want to share about how you fared relative to your goals, please do!*\n",
    "\n",
    "### Blog Posts"
   ]
  },
  {
   "cell_type": "markdown",
   "metadata": {},
   "source": [
    "One of my goals from the beginning of the semester was to submit an attempt on at least all of the blog posts, and submit at\n",
    "least one revision using Peer Help or Student Hours. However, mid-semester, I revised this goal once I decided to prioritize quality over quantity. I ended up having a much busier semester than anticipated (opting in to study and take the GMAT in 2 months!!) so I was very pleased that I chose to re-prioritize and am feeling very satisifed with the quality of work I was able to produce. \n",
    "\n",
    "I ended up producing 6 very strong blog posts (most of them still waiting on feedback on my revisions), which I believe was a great ending point for me."
   ]
  },
  {
   "cell_type": "markdown",
   "metadata": {},
   "source": [
    "### Course Presence (Participation)"
   ]
  },
  {
   "cell_type": "markdown",
   "metadata": {},
   "source": [
    "At the beginning of the year, I decided my participation goals included spending enough time on all of the warm-ups and readings so that I could be involved with my group and in class. Additionally, I set a goal to attend all of the classes that I am physically able to and attend Student Hours or Peer Help as much as I can in order to stay up to date with my coursework and assignments. I am happy to say that, for the most part, I was able to spend time on the warm-ups so that I could be a productive and helpful group member and follow along during class lectures. I also think that my participation was strong, albiet there were more times than I expected to have to miss or be late to class, a result of a busy last semester. I also am happy with my use of Peer Help, I really appreciated Steven's help and benefited greatly from it. "
   ]
  },
  {
   "cell_type": "markdown",
   "metadata": {},
   "source": [
    "### Project "
   ]
  },
  {
   "cell_type": "markdown",
   "metadata": {},
   "source": [
    "I am super pleased with my group members and our final product for this project! I felt like everyone contributed in different ways and everyone was very responsive and helpful in keeping the work moving. My initial goals for this project was to set a regular time each week to work with my partners and submit all deliverables/milestones on time along with taking the lead on a certain section/algorithm within the project.\n",
    "\n",
    "I am happy to say that some portion of our group met every week and we were able to submit all milestones on time. I ended up taking on more of a writing role than I anticipated, but I was happy to fill in for that position. After our first few meetings, I noticed that each group member had a role that they were either super interested in doing or had the most expertise in and noticed that we were missing someone to write and explain the process as we worked, so I was happy to fill that role. We ended up breaking up the work well, especially once we had a group of four that couldn't always meet all together at the same time. I found that taking time to write our our steps and process was largely beneficial to keep everyone up-to-date on what we had done and what needed to be done.    "
   ]
  },
  {
   "cell_type": "markdown",
   "metadata": {},
   "source": [
    "### Other\n",
    "\n",
    "*Is there anything else that you want to share with me about what you learned, how you participated, or what you achieved in CSCI 0451?*"
   ]
  },
  {
   "cell_type": "markdown",
   "metadata": {},
   "source": [
    "I am very proud of the work that I was able to do on my blog posts and feel that my work on the group project serves a strong culiminating show of all that I learned over this semester."
   ]
  },
  {
   "cell_type": "markdown",
   "metadata": {},
   "source": [
    "# Your Proposed Letter Grade\n",
    "\n",
    "*Take 15 minutes to look back on your responses in each of the sections above. Then, make a proposal for the letter grade that you feel best reflects your learning, participation, and achievement in CSCI 0451. Here are some soundbytes to help guide your thinking:*\n",
    "\n",
    "*An **A** sounds like:* \n",
    "\n",
    "- *\"I am very proud of my time in this course.\"*\n",
    "- *\"I have grown significantly in multiple ways that matter to me.\"*\n",
    "- *\"I am ready to take the theory, techniques, and ideas of this course into my future classes, projects, hobbies, or career.\"* \n",
    "\n",
    "*A **B** sounds like:* \n",
    "\n",
    "- *\"I had some opportunities to learn more, overall I feel good about my time in this course.\"*\n",
    "- *\"I am able to explain some new things or achieve new tasks.\"*\n",
    "- *\"I can see a few ideas from this course that will be relevant for my future classes, projects, hobbies, or career.\"*\n",
    "\n",
    "*A **C** sounds like:* \n",
    "\n",
    "- *\"I often made a good effort, but I missed many opportunities to get more out of my time in this course.\"*\n",
    "- *\"I might be able to complete some new tasks related to the course content, but only with significant further guidance.\"* \n",
    "- *\"I don't see any ways to take the contents of this course into my future classes, projects, hobbies, or career.\"*\n",
    "\n",
    "*You might find that some of these soundbytes resonate and other's don't! Take some time, see what feels right, and don't be afraid to celebrate your achievements.* "
   ]
  },
  {
   "cell_type": "markdown",
   "metadata": {},
   "source": [
    "[Your proposed letter grade in this section should be based purely on demonstrations of learning that you have **already submitted**.]{.aside}\n",
    "\n",
    "> **Upon reflection, I feel that my learning, participation, and achievement in CSCI 0451 are best reflected by a grade of** A.\n"
   ]
  }
 ],
 "metadata": {
  "kernelspec": {
   "display_name": "Python 3 (ipykernel)",
   "language": "python",
   "name": "python3"
  },
  "language_info": {
   "codemirror_mode": {
    "name": "ipython",
    "version": 3
   },
   "file_extension": ".py",
   "mimetype": "text/x-python",
   "name": "python",
   "nbconvert_exporter": "python",
   "pygments_lexer": "ipython3",
   "version": "3.9.13"
  },
  "vscode": {
   "interpreter": {
    "hash": "debe06cc0f9553f110b64dc3926c05df82dae2145b852c8422b9c04315589dcb"
   }
  }
 },
 "nbformat": 4,
 "nbformat_minor": 4
}
