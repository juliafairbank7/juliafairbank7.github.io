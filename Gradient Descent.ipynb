{
 "cells": [
  {
   "cell_type": "code",
   "execution_count": 1,
   "id": "fcfe28cf-9df6-4b61-a057-8b26bd762f4b",
   "metadata": {},
   "outputs": [
    {
     "ename": "SyntaxError",
     "evalue": "invalid syntax (3313188621.py, line 8)",
     "output_type": "error",
     "traceback": [
      "\u001b[0;36m  File \u001b[0;32m\"/var/folders/tv/rp0f4yhd2yncf728pg446fzm0000gn/T/ipykernel_19045/3313188621.py\"\u001b[0;36m, line \u001b[0;32m8\u001b[0m\n\u001b[0;31m    def gradient():\u001b[0m\n\u001b[0m    ^\u001b[0m\n\u001b[0;31mSyntaxError\u001b[0m\u001b[0;31m:\u001b[0m invalid syntax\n"
     ]
    }
   ],
   "source": [
    "import numpy as np\n",
    "\n",
    "alpha = 0.001 #learning rate\n",
    "\n",
    "done = False\n",
    "prev_loss = np.inf #start off the loss\n",
    "\n",
    "def f(x):\n",
    "    return np.sin(x[0]*x[1]\n",
    "\n",
    "def gradient(w1, w2):\n",
    "    while not done:\n",
    "                  \n",
    "    \n",
    "                \n",
    "                  "
   ]
  },
  {
   "cell_type": "code",
   "execution_count": null,
   "id": "a35530b2-f181-419b-8fcd-ce24c40e5453",
   "metadata": {},
   "outputs": [],
   "source": []
  }
 ],
 "metadata": {
  "kernelspec": {
   "display_name": "Python 3 (ipykernel)",
   "language": "python",
   "name": "python3"
  },
  "language_info": {
   "codemirror_mode": {
    "name": "ipython",
    "version": 3
   },
   "file_extension": ".py",
   "mimetype": "text/x-python",
   "name": "python",
   "nbconvert_exporter": "python",
   "pygments_lexer": "ipython3",
   "version": "3.9.13"
  }
 },
 "nbformat": 4,
 "nbformat_minor": 5
}
