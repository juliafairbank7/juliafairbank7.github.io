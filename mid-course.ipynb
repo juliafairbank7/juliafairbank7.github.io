{
 "cells": [
  {
   "cell_type": "markdown",
   "metadata": {},
   "source": [
    "# CSCI 0451: Mid-Course Reflection\n",
    "\n",
    "Julia Fairbank"
   ]
  },
  {
   "cell_type": "markdown",
   "metadata": {},
   "source": [
    "## The Data\n",
    "\n",
    "*In this section I'll ask you to fill in some data. You don't have to give precise numbers -- approximate, conversational responses are fine. For example, when I ask \"how often have you attended class,\" good answers include \"almost always,\" \"I've missed three times,\" \"about 75% of the time,\" \"not as often as I want,\" etc.* \n",
    "\n",
    "### Presence in Class\n",
    "\n",
    "- *How often have you attended class?* I've missed 2 classes due to being sick, communicated ahead of time.\n",
    "- *How often have you taken notes on the core readings ahead of the class period?* ~60% of the time, I read/skim mostly and take notes in class. \n",
    "- *How often have you been **prepared** to present the daily warm-up exercise to your team, even if you weren't actually called?* ~85% of the time.\n",
    "- *How many times have you **actually** presented the daily warm-up to your team?* 3 times (3 called for, 1 stepping in). \n",
    "- *How many times have you asked your team for help while presenting the daily warm-up?* Never. \n",
    "- *How often have you learned something new from a teammate's presentation of the daily warm-up?* Most days! One of my teammates is a math major and I've noticed that he approaches the problems in way I didn't consider. \n",
    "- *How often have you helped a teammate during the daily warm-up presentation?* A few times!\n",
    "\n",
    "### Presence Outside of Class \n",
    "\n",
    "- *How often have you attended Student Hours or Peer Help?* I try to attend Peer Help every week (twice if I have the time!).  \n",
    "- *How often have you asked for or received help from your fellow students?* A few times, especially on warm-ups or implementing equations for blog posts. \n",
    "- *Have you been regularly participating in a study group outside class?* No. \n",
    "- *How often have you posted questions or answers in Slack?* Not much, I prefer going to Peer Help.\n",
    "\n",
    "### Assignments and Effort\n",
    "\n",
    "- *How many blog posts have you submitted?* 4 (Linear Regression still being a major WIP). \n",
    "- *How many of your submitted blog posts are at each of the following feedback stages?*\n",
    "    - *No revisions suggested:* 0\n",
    "    - *Revisions useful:* 1\n",
    "    - *Revisions encouraged:* 2\n",
    "    - *Incomplete:* 1\n",
    "- *Roughly how many hours per week have you spent on this course outside of class?* ~9.\n"
   ]
  },
  {
   "cell_type": "markdown",
   "metadata": {},
   "source": [
    "## What You've Learned\n",
    "\n",
    "*At the beginning of the course, you may have expressed an interest in focusing a little extra on one or two of the following four categories:* \n",
    "\n",
    "- ***Theory***: *mathematical descriptions of frameworks and algorithms.*\n",
    "- ***Implementation***: *effective coding and use of tools in order to implement efficient machine learning algorithms.*\n",
    "- ***Experimentation***: *performing experiments to assess the performance of algorithms and clearly communicating about the results.*\n",
    "- ***Social responsibility***: *critical analysis of sources of bias and harm in machine learning algorithms; theoretical formulations of fairness and bias*\n",
    "\n",
    "*Did you choose to focus on any of these categories? If so, what have you done in order to pursue your interest?*    "
   ]
  },
  {
   "cell_type": "markdown",
   "metadata": {},
   "source": [
    "I chose to focus on implementation, and have been active in attending Peer Help to try to make my code as clean and effective as possible. It takes longer to figure out how to do the work with matrix math as opposed to loops but it makes my code so much more legible and saves me a lot of time in the future.  "
   ]
  },
  {
   "cell_type": "markdown",
   "metadata": {},
   "source": [
    "## Reflecting on Goals\n",
    "\n",
    "*For each of the categories below, replace the \"[your response here]\" cell with 1-2 paragraphs in which you reflect on the following questions:* \n",
    "\n",
    "- *In what ways are you **on track to meet your goals** from the beginning of the course? Be specific: explain what the goal is and what you are doing in order to meet it.* \n",
    "- *In what ways are you **not on track to meet your goals** from the beginning of the course? Be specific: explain what the goal is and what gap you see between where you are and your goal.* \n",
    "- *If there's any **context** you want to share about how you are faring relative to your goals, please do!*\n",
    "\n",
    "### Blog Posts"
   ]
  },
  {
   "cell_type": "markdown",
   "metadata": {},
   "source": [
    "One of my goals from the beginning of the semester wewasre to submit an attempt on at least all of the blog posts, and submit at least one revision using Peer Help or Student Hours. So far, I have submitted attempts on 4 blog posts, only one of which is at Revision Useful, two being at Revisions Encouraged, and one that hasn't been graded (and is also a work in progress). However, I've realized that spending more time putting together a comprehensible, complete blog post is more valuable than submitting as many submissions as I can. In that sense, I think I will prioritize bulking up and revising the 4 blog posts I currently have submitted before moving on to the next one. "
   ]
  },
  {
   "cell_type": "markdown",
   "metadata": {},
   "source": [
    "### Course Presence (Participation)"
   ]
  },
  {
   "cell_type": "markdown",
   "metadata": {},
   "source": [
    "One goal that I am proud to say I have kept up with is my attendance in class and Peer Help. I haven't attended Student Hours yet because my schedule during the day doens't work well with the hours, but the late night sessions on Mondays and Thursdays work well and I've found a lot of success from attending those sessions. I've been able to attend the majority of our classes and have kept up with most of the warmups. "
   ]
  },
  {
   "cell_type": "markdown",
   "metadata": {},
   "source": [
    "### Project "
   ]
  },
  {
   "cell_type": "markdown",
   "metadata": {},
   "source": [
    "One of the warmups that I wasn't able to do was the Project Proposal. Luckily, in the beginning of the semester, I pulled a few data sets and articles of project ideas that I could potentially be interested in, so I was able to talk about a few of those with my teammates during the warmup and discuss their feasibility. I was really excited to hear about David's project and spoke to him after about joining a group with him and Cece. I think we are a little behind but meeting later today, Wednesday April 5th, to get things moving.\n",
    "\n",
    "Because Cece is in a different section, I think we will have to work extra hard to make sure we are all on the same page and have consistent meeting times. "
   ]
  },
  {
   "cell_type": "markdown",
   "metadata": {},
   "source": [
    "### Other\n",
    "\n",
    "*Is there anything else that you want to share with me about what you have learned, how you have participated, or what you have achieved in CSCI 0451?*"
   ]
  },
  {
   "cell_type": "markdown",
   "metadata": {},
   "source": [
    "One piece of context that I've shared with you is that I am currently in the weeds with my MBA application. I've been spending majority of my time putting together my written responses and preparing for the GMAT. This wasn't something I was sure I was going to do this semester, so my goals for this class didn't take into account this additional workload. For full transparency, this application will be my top priority for the next 2-3 weeks (final application due April 27th), meaning that my courses will be less of a priority and I will have less time to dedicate to them. "
   ]
  },
  {
   "cell_type": "markdown",
   "metadata": {},
   "source": [
    "### Updating Your Goals\n",
    "\n",
    "From your experience in CSCI 0451 and your other classes this semester, you may feel moved to make modifications to your goals. Are they still feasible? Too ambitious? Not ambitious enough? If you would like to revise any of your goals from your reflective goal-setting, you can do so below. For each goal you want to modify: \n",
    "\n",
    "1. Clearly state what the goal was. \n",
    "2. Clearly state how you've done on that goal so far. \n",
    "3. Clearly state your proposed revised goal for the remainder of the course. "
   ]
  },
  {
   "cell_type": "markdown",
   "metadata": {},
   "source": [
    "Goal 1: \n",
    "1. Submit an attempt on at least every blog post.\n",
    "2. Of the 5 (+1 additional) blog posts that are posted currently, I have submitted attempts on 4 of them. \n",
    "3. I would like to revise this goal to have at least 3 blog posts with \"No Revisions Suggested,\" and attempts on the majority of the remaining blog posts. I no longer expect/am aiming for submitting attempts on every blog post, and would rather spend more time making sure that I have strong submissions rather than many submissions.  "
   ]
  },
  {
   "cell_type": "markdown",
   "metadata": {},
   "source": [
    "Goal 2:\n",
    "1. Attempt to revise each blog post.\n",
    "2. Of the 4 blog posts I have submitted, I am currently in revision for all 4. \n",
    "3. I would like to keep this goal because it supports my bigger goal of having stronger submissions over many submissions. This goal will also help me to revise my posts up to my first goal of having at least 3 blog posts with \"No Revisions Suggested.\" "
   ]
  },
  {
   "cell_type": "markdown",
   "metadata": {},
   "source": [
    "Goal 3:\n",
    "1. Make strong attempts on all of the warm-ups. \n",
    "2. I have made attempts on ~85% of the warm-ups, missing a few when I had too much work for other classes and wasn't able to get to them on time. \n",
    "3. I would like to continue being prepared for class and be a reliable teammate, but acknowledge that I don't always have time to attempt every warm-up to my full capacity. Considering this, I'd like to spend at least 20 mins on every warm-up, regardless of if I'm able to complete any of it, just so I understand what is being asked and what questions I have to bring to my group. Then, I will be able to be an active participant in the warm-ip activity, even if I don't have a final answer. "
   ]
  },
  {
   "cell_type": "markdown",
   "metadata": {},
   "source": [
    "Goal 4:\n",
    "1. Attend all the classes that I am physically able to. \n",
    "2. I have attended all but two classes, both of which I had to miss due to sickness. I communicated ahead of class and coordinated with my teammates to get the notes that I missed from class. \n",
    "3. I would like to keep this goal as is!\n"
   ]
  },
  {
   "cell_type": "markdown",
   "metadata": {},
   "source": [
    "Goal 5:\n",
    "1. Attend Student Hours/Peer Help frequently. \n",
    "2. I try to attend Peer Help weekly and have benefited greatly from working with Steven.\n",
    "3. I would like to keep this goal up but with an emphasis on Peer Help since those hours work better with my schedule. \n"
   ]
  },
  {
   "cell_type": "markdown",
   "metadata": {},
   "source": [
    "## Grade and Goals\n",
    "\n",
    "*Take 15 minutes to look back on your responses in each of the sections above. Then, state the letter grade that you feel reflects your learning, participation, and achievement in CSCI 0451 **so far**. Here are some soundbytes to help guide your thinking:*\n",
    "\n",
    "### What a Grade Sounds Like\n",
    "\n",
    "*An **A** sounds like:* \n",
    "\n",
    "- *\"I am very proud of my time in this course.\"*\n",
    "- *\"I have grown significantly in multiple ways that matter to me.\"*\n",
    "- *\"I am ready to take the theory, techniques, and ideas of this course into my future classes, projects, hobbies, or career.\"* \n",
    "\n",
    "*A **B** sounds like:* \n",
    "\n",
    "- *\"I had some opportunities to learn more, overall I feel good about my time in this course.\"*\n",
    "- *\"I am able to explain some new things or achieve new tasks.\"*\n",
    "- *\"I can see a few ideas from this course that will be relevant for my future classes, projects, hobbies, or career.\"*\n",
    "\n",
    "*A **C** sounds like:* \n",
    "\n",
    "- *\"I often made a good effort, but I missed many opportunities to get more out of my time in this course.\"*\n",
    "- *\"I might be able to complete some new tasks related to the course content, but only with significant further guidance.\"* \n",
    "- *\"I don't see any ways to take the contents of this course into my future classes, projects, hobbies, or career.\"*\n",
    "\n",
    "*You might find that some of these soundbytes resonate and other's don't! Take some time, see what feels right, and don't be afraid to celebrate your achievements.* "
   ]
  },
  {
   "cell_type": "markdown",
   "metadata": {},
   "source": [
    "> **Upon reflection, I feel that my learning, participation, and achievement in CSCI 0451 (so far) are best reflected by a grade of** A- "
   ]
  },
  {
   "cell_type": "markdown",
   "metadata": {},
   "source": [
    "## (Optional:) How to Improve? \n",
    "\n",
    "*You may feel disappointed by your reflection. Sometimes we don't achieve all our goals -- it happens and it's normal! If you are feeling disappointed by how you've learned, participated, or achieved in CSCI 0451, then feel free to write something about that below. Feel free to just write your feelings. If you have ideas for how to move forward, include those too! We'll talk.* "
   ]
  },
  {
   "cell_type": "markdown",
   "metadata": {},
   "source": [
    "I am excited about how much I've learned in this class so far! It's definitely a challenging course for me, but I feel proud of the work I've put in on my own, in class, and in Peer Help hours. I am a little disappointed with where I am at numbers wise (having 4 points, 2 on Perceptron + 1 on Gradient Descent + 1 on Logisitic Regression + 0 on Linear Regression) but have shifted my goals to prioritize revisions over getting attempts on my blog posts. I hope by the end of the year I am able to get up to my revised goals and have stronger blog posts that accurately reflect the time and work I put into them. "
   ]
  }
 ],
 "metadata": {
  "kernelspec": {
   "display_name": "Python 3 (ipykernel)",
   "language": "python",
   "name": "python3"
  },
  "language_info": {
   "codemirror_mode": {
    "name": "ipython",
    "version": 3
   },
   "file_extension": ".py",
   "mimetype": "text/x-python",
   "name": "python",
   "nbconvert_exporter": "python",
   "pygments_lexer": "ipython3",
   "version": "3.9.13"
  },
  "vscode": {
   "interpreter": {
    "hash": "debe06cc0f9553f110b64dc3926c05df82dae2145b852c8422b9c04315589dcb"
   }
  }
 },
 "nbformat": 4,
 "nbformat_minor": 4
}
