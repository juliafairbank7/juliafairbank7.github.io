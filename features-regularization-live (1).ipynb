{
 "cells": [
  {
   "cell_type": "markdown",
   "metadata": {},
   "source": [
    "::: {.hidden}\n",
    "$$\n",
    "\\newcommand{\\R}{\\mathbb{R}}\n",
    "\\newcommand{\\vx}{\\mathbf{x}}\n",
    "\\newcommand{\\vy}{\\mathbf{y}}\n",
    "\\newcommand{\\vz}{\\mathbf{z}}\n",
    "\\newcommand{\\vd}{\\mathbf{d}}\n",
    "\\newcommand{\\mX}{\\mathbf{X}}\n",
    "\\newcommand{\\mR}{\\mathbf{R}}\n",
    "\\newcommand{\\vw}{\\mathbf{w}}\n",
    "\\newcommand{\\vr}{\\mathbf{r}}\n",
    "\\newcommand{\\vzero}{\\mathbf{0}}\n",
    "\\newcommand{\\bracket}[1]{\\langle #1 \\rangle}\n",
    "\\newcommand{\\paren}[1]{\\left( #1 \\right)}\n",
    "\\newcommand{\\one}[1]{\\mathbb{1}\\left[ #1 \\right]}\n",
    "\\newcommand{\\cL}{\\mathcal{L}}\n",
    "\\newcommand{\\cD}{\\mathcal{D}}\n",
    "\\newcommand{\\cM}{\\mathcal{M}}\n",
    "\\newcommand{\\mA}{\\mathbf{A}}\n",
    "\\newcommand{\\vtheta}{\\boldsymbol{\\theta}}\n",
    "\\newcommand{\\norm}[1]{\\lVert #1 \\rVert}\n",
    "\\newcommand{\\abs}[1]{\\lvert #1 \\rvert}\n",
    "\\newcommand{\\prob}[1]{\\mathbb{P}\\left[#1\\right]}\n",
    "\\newcommand{\\E}{\\mathbb{E}}\n",
    "\\newcommand{\\dd}[2]{\\frac{\\partial #1}{\\partial #2}}\n",
    "\n",
    "\\usepackage{amsmath}\n",
    "\\DeclareMathOperator*{\\argmax}{arg\\,max}\n",
    "\\DeclareMathOperator*{\\argmin}{arg\\,min}\n",
    "$$"
   ]
  },
  {
   "cell_type": "code",
   "execution_count": null,
   "metadata": {},
   "outputs": [],
   "source": [
    "#| echo: false\n",
    "from warnings import simplefilter\n",
    "from sklearn.exceptions import ConvergenceWarning\n",
    "simplefilter(\"ignore\", category=ConvergenceWarning)"
   ]
  },
  {
   "cell_type": "markdown",
   "metadata": {},
   "source": [
    ":::\n",
    "\n",
    "# Quick Recap\n",
    "\n",
    "Last time, we considered the problem of *empirical risk minimization* with a *convex* loss function. We assumed that we had data, a pair $(\\mX, \\vy)$ where \n",
    "\n",
    "- $\\mX \\in \\R^{n\\times p}$ is the *feature matrix*. There are $n$ distinct observations, encoded as rows. Each of the $p$ columns corresponds to a *feature*: something about each observation that we can measure or infer. Each observation is written $\\vx_1, \\vx_2,\\ldots$. \n",
    "$$\n",
    "\\mX = \\left[\\begin{matrix} & - & \\vx_1 & - \\\\ \n",
    "& - & \\vx_2 & - \\\\ \n",
    "& \\vdots & \\vdots & \\vdots \\\\ \n",
    "& - & \\vx_{n} & - \\end{matrix}\\right]\n",
    "$$\n",
    "- $\\vy \\in \\R^{n}$ is the *target vector*. The target vector gives a label, value, or outcome for each observation. \n",
    "\n",
    "Using this data, we defined the empirical risk minimization problem, which had the general form \n",
    "$$\n",
    "\\hat{\\vw} = \\argmin_{\\vw} \\; L(\\vw)\\;, \n",
    "$${#eq-empirical-risk-minimization}\n",
    "where \n",
    "$$\n",
    "L(\\vw) = \\frac{1}{n} \\sum_{i = 1}^n \\ell(f_{\\vw}(\\vx_i), y_i)\\;.\n",
    "$$\n",
    "\n",
    "Here, $f_{\\vw}:\\R^p \\rightarrow \\R$ is our predictor function, which takes in a feature vector $\\vx_i$ and spits out a prediction $\\hat{y}_i$. We are still assuming that $f_{\\vw}$ is linear and therefore has the form \n",
    "\n",
    "[Originally we considered classifiers of the form $f_{\\vw, b}(\\vx) = \\bracket{\\vw, \\vx} - b$, but we can ignore $b$ for today by using the assumption that the final column of $\\vx$ is a column of $1$s, just like we did for the perceptron.]{.aside}\n",
    "$$\n",
    "f_{\\vw}(\\vx) = \\bracket{\\vw, \\vx}\n",
    "$${#eq-linear-predictor}\n",
    "\n",
    "In our [last lecture](gradient-descent.qmd), we studied how to compute the gradient of $L(\\vw)$ in minimize the convex loss and find a good value $\\hat{\\vw}$ for the parameter vector. In this lecture we're going to assume that we can cheerfully solve the empirical risk minimization for convex linear models. This time, we're going to see how we can use the framework of convex linear models to try to get around one of the main limitations we've seen in class so far: our models only work with linear decision boundaries. Most of the data we care about has *nonlinear* decision boundaries. Here's a dramatic example. For this example, I'm using the implementation of logistic regression from `scikit-learn`. I'm also using the `plot_decision_regions` function from the `mlxtend` package, which is a handy plotting utility for visualizing the behavior of our models. "
   ]
  },
  {
   "cell_type": "code",
   "execution_count": null,
   "metadata": {},
   "outputs": [],
   "source": [
    "from sklearn.datasets import make_moons, make_circles\n",
    "from mlxtend.plotting import plot_decision_regions\n",
    "from sklearn.linear_model import LogisticRegression\n",
    "from matplotlib import pyplot as plt\n",
    "import numpy as np\n",
    "np.seterr(all=\"ignore\")\n",
    "\n",
    "X, y = make_circles(200, shuffle = True, noise = 0.1, factor = 0.5)\n",
    "\n",
    "#\n",
    "#\n",
    "#\n",
    "#"
   ]
  },
  {
   "cell_type": "markdown",
   "metadata": {},
   "source": [
    "Yikes! Our accuracy isn't much better than 50%. \n",
    "\n",
    "Visually this *should* be pretty easy data to classify. But the linear decision boundary isn't the way. \n",
    "\n",
    "::: {.callout-important}\n",
    "\n",
    "Given a point $\\vx$, what information would you find most useful about that point in determining whether it should have label $0$ or $1$ based on this training data? \n",
    ":::\n",
    "\n",
    "## Feature Maps\n",
    "\n",
    "Suppose that we were able to extract from each point its distance from the origin. In 2d, we could take a point $\\vx$ and simply compute \n",
    "\n",
    "$$\n",
    "r^2 = x_1^2 + x_2^2\\;. \n",
    "$$\n",
    "\n",
    "We could then make the classification based on the value of $r^2$. In this data set, it looks like the classification rule that predicts $1$ if $r^2 < 1$ and $0$ otherwise would be a pretty good one. The important insight here is that this is *also* a linear model, with linear predictor function \n",
    "\n",
    "$$\n",
    "\\hat{y} = \\bracket{\\vr, \\vw}\\;,\n",
    "$$\n",
    "\n",
    "and predicted labels $\\mathbb{1}[\\hat{y} < 0]$. \n",
    "\n",
    "where $\\vr = (r^2, 1)$ and $\\vw = (1, -1)$. This means that we can use empirical risk minimization for this problem if we just transform the features $\\mX$ first! We need to compute a matrix $\\mR$ whose $i$th row is $\\vr_i = (r^2_i, 1) = (x_{i1}^2 + x_{i2}^2, 1)$, and then use this matrix in place of $\\mX$ for our classification task. \n",
    "\n",
    "The transformation $(x_1, x_2) \\mapsto (x_1^2 + x_2^2, 1)$ is an example of a *feature map*. \n",
    "\n",
    "::: {.callout-note}\n",
    "::: {#def-feature-map}\n",
    "\n",
    "A *feature map* $\\phi$ is a function $\\phi:D \\rightarrow \\R^p$, where $D$ is the set of possible data values. If $d\\in D$ is a data point, we call $\\phi(d) = \\vx \\in \\R^p$ the *feature vector* corresponding to $d$.  For a given feature map $\\phi$, we define the map $\\Phi:D^n \\rightarrow \\R^{n\\times p}$ as \n",
    "\n",
    "$$\n",
    "\\Phi(\\vd) = \\left(\\begin{matrix}\n",
    "     - & \\phi(d_1) & - \\\\\n",
    "     - & \\phi(d_2) & - \\\\\n",
    "     \\vdots & \\vdots & \\vdots \\\\\n",
    "     - & \\phi(d_n) & - \\\\\n",
    "\\end{matrix}\\right)\n",
    "$$\n",
    "\n",
    "We'll often write \n",
    "\n",
    "$$\n",
    "\\mX = \\Phi(\\vd)\n",
    "$$\n",
    "\n",
    "to say that $\\mX$ is the feature matrix for a data set $\\vd$. \n",
    "\n",
    ":::\n",
    ":::\n",
    "\n",
    "We can think of feature maps in two ways: \n",
    "\n",
    "Feature maps can represent **measurement processes**. For example, maybe I am trying to classify penguins by species, based on physiological measurements. The *real data* is the penguin, and the measurements are how I represent that penguin with numbers. In this case, I might write my feature map as \n",
    "$$\\phi(🐧) = (\\mathrm{height}, \\mathrm{weight}, \\text{bill length})$$\n",
    "Here, $D$ is a set of many penguins $D = \\{🐧_1, 🐧_2, 🐧_3, 🐧_4, 🐧_5, 🐧_6, 🐧_7\\}$, and $d\\in D$ is a specific penguin. \n",
    "The process of transforming an object into a vector via a feature map is often called **vectorization** as well, especially in the context of representing digital data as vectors. We often talk about vectorizing text and images for example; this can be done using feature maps. \n",
    "\n",
    "Feature maps can also represent **data processing**, which is more like our example above. There, we're taking some data that's already a vector and turning it into a DIFFERENT vector that we think will be helpful for our learning task. \n",
    "\n",
    "## Feature Maps and Linear Separability\n",
    "\n",
    "We often think of feature maps as taking us from a space in which the data is **not** linearly separable to a space in which it is. For example, consider the feature map \n",
    "\n",
    "$$\n",
    "(x_1, x_2) \\maps_to (x_1^2, x_2^2)\\;. \n",
    "$$\n",
    "\n",
    "This map is sufficient to express the radius information, since we can represent the radius as \n",
    "\n",
    "$$\n",
    "r^2 = \\bracket{(1, 1), (x_1^2, x_2^2)}\\;.\n",
    "$$\n",
    "\n",
    "Let's see how this looks. We'll again show the failed linear separator, and we'll also show a successful separator in a transformed feature space: "
   ]
  },
  {
   "cell_type": "code",
   "execution_count": null,
   "metadata": {},
   "outputs": [],
   "source": [
    "fig, axarr = plt.subplots(1, 2, figsize=(8, 4))\n",
    "\n",
    "plot_decision_regions(X, y, clf = LR, ax = axarr[0])\n",
    "score = axarr[0].set_title(f\"Accuracy = {LR.score(X, y)}\")\n",
    "\n"
   ]
  },
  {
   "cell_type": "markdown",
   "metadata": {},
   "source": [
    "## Feature Maps in Practice\n",
    "\n",
    "Going back to our example of trying to classify the two nested circles, we could just compute the radius. In practice, however, we don't really know which features are going to be most useful, and so we just compute *a set* of features. In our case, the square of the radius is an example of a polynomial of degree 2: \n",
    "$$\n",
    "r^2 = x_1^2 + x_2^2\\;. \n",
    "$$\n",
    "So, instead of just assuming that the radius is definitely the right thing to compute, we more frequently just compute all the monomials of degree 2 or lower. If $\\vx = (x_1, x_2)$, then this is  \n",
    "\n",
    "$$\n",
    "\\phi(\\vx_i) = (1, x_1, x_2, x_1^2, x_2^2, x_1x_2)\\;. \n",
    "$$\n",
    "\n",
    "We then use a linear model to solve the empirical risk minimization problem\n",
    "\n",
    "$$\n",
    "\\hat{\\vw} = \\argmin_{w} \\sum_{i = 1}^n \\ell(\\bracket{\\vw, \\phi(\\vx_i)}, y_i)\\;.\n",
    "$$\n",
    "\n",
    "The important point to keep track of is that the new feature matrix $\\mX' = \\Phi(\\mX)$ has more columns than $\\mX$. In this case, for example, $\\mX$ had just 2 columns but $\\Phi(\\mX)$ has 6. This means that $\\hat{\\vw}$ has 6 components, instead of 2! \n",
    "\n",
    "Let's now run logistic regression with degree-2 polynomial features on this data set. The most convenient way to make this happen in the `scikit-learn` framework is with at `Pipeline`. The `Pipeline` first applies the feature map and then calls the model during both fitting and evaluation. We'll wrap the pipeline in a simple function for easy reuse. "
   ]
  },
  {
   "cell_type": "code",
   "execution_count": null,
   "metadata": {},
   "outputs": [],
   "source": [
    "from sklearn.preprocessing import PolynomialFeatures\n",
    "from sklearn.pipeline import Pipeline\n",
    "\n",
    "def poly_LR(degree, **kwargs):\n",
    "    plr = Pipeline([(\"poly\", PolynomialFeatures(degree = degree)),\n",
    "                    (\"LR\", LogisticRegression(**kwargs))])\n",
    "    return plr\n",
    "\n",
    "def viz_plr(plr, X, y):  \n",
    "    plot_decision_regions(X, y, clf = plr)\n",
    "    score = plt.gca().set_title(f\"Accuracy = {plr.score(X, y)}\")  "
   ]
  },
  {
   "cell_type": "code",
   "execution_count": null,
   "metadata": {},
   "outputs": [],
   "source": [
    "# \n",
    "# \n",
    "#"
   ]
  },
  {
   "cell_type": "markdown",
   "metadata": {},
   "source": [
    "Let's check the coefficients of the model: "
   ]
  },
  {
   "cell_type": "code",
   "execution_count": null,
   "metadata": {},
   "outputs": [],
   "source": [
    "#"
   ]
  },
  {
   "cell_type": "markdown",
   "metadata": {},
   "source": [
    "Notice that two coefficients are much larger than the others, and approximately equal. These are the coefficients for the features $x_1^2$ and $x_2^2$. The fact that these are approximately equal means that our model is very close to using the square radius $r^2 = x_1^2 + x_2^2$ for this data, just like we'd expect. The benefit is that we didn't have to hard-code that in; the model just detected on its own the right pattern to find. \n",
    "\n",
    "Part of the reason this might be beneficial is that for some data sets, we might not really know what specific features we should try. For example, here's another one where a linear classifier doesn't do so great (degree 1 corresponds to no transformation of the features).  "
   ]
  },
  {
   "cell_type": "code",
   "execution_count": null,
   "metadata": {},
   "outputs": [],
   "source": [
    "np.random.seed(123)\n",
    "X, y = make_moons(200, shuffle = True, noise = 0.2)\n",
    "\n",
    "# \n",
    "# \n",
    "#"
   ]
  },
  {
   "cell_type": "markdown",
   "metadata": {},
   "source": [
    "It's not as obvious that we should use the radius or any other specific feature for our feature map. Fortunately we don't need to think too much about it -- we can just increase the degree and let the model figure things out: "
   ]
  },
  {
   "cell_type": "code",
   "execution_count": null,
   "metadata": {},
   "outputs": [],
   "source": [
    "# \n",
    "# \n",
    "#"
   ]
  },
  {
   "cell_type": "markdown",
   "metadata": {},
   "source": [
    "Much nicer! \n",
    "\n",
    "## Generalization, Feature Selection, Regularization\n",
    "\n",
    "So, why don't we just use as many features as it takes to get perfect accuracy on the training data? Here's an example where we get perfect accuracy on the training data: "
   ]
  },
  {
   "cell_type": "code",
   "execution_count": null,
   "metadata": {},
   "outputs": [],
   "source": [
    "# \n",
    "# \n",
    "#"
   ]
  },
  {
   "cell_type": "markdown",
   "metadata": {},
   "source": [
    "I've had to change some parameters to the `LogisticRegression` in order to ensure that it fully ran the optimization procedure for this many polynomials. \n",
    "\n",
    "The problem here is that, although this classifier might achieve perfect *training* accuracy, it doesn't really look like it's captured \"the right\" pattern. This means that if we ask it to classify *similar* new data, it's unlikely to do as well: "
   ]
  },
  {
   "cell_type": "code",
   "execution_count": null,
   "metadata": {},
   "outputs": [],
   "source": [
    "#\n",
    "#\n",
    "#"
   ]
  },
  {
   "cell_type": "markdown",
   "metadata": {},
   "source": [
    "Whoops! We have *overfit*: our model was so flexible that it was able to learn both some *real* patterns that we wanted it to learn and some *noise* that we didn't. As a result, when it made a prediction on new data, the model's predictions were imperfect, reflecting the noise it learned in the training process. \n",
    "\n",
    "In machine learning practice, we don't actually *want* our models to get perfect scores on the training data -- we want them to ***generalize*** to new instances of unseen data. Overfitting is one way in which a model can fail to generalize. \n",
    "\n",
    "Let's do an experiment in which we see what happens to the model's generalization ability when we increase the number of polynomial features: \n"
   ]
  },
  {
   "cell_type": "code",
   "execution_count": null,
   "metadata": {},
   "outputs": [],
   "source": [
    "import pandas as pd\n",
    "np.random.seed()\n",
    "\n",
    "degs = range(0, 11)\n",
    "\n",
    "df = pd.DataFrame({\"deg\": [], \"train\" : [], \"test\" : []})\n",
    "\n",
    "for rep in range(10):\n",
    "    X_train, y_train = make_moons(100, shuffle = True, noise = .4)\n",
    "    X_test, y_test = make_moons(100, shuffle = True, noise = .4)\n",
    "\n",
    "    for deg in degs:\n",
    "        plr = poly_LR(degree = deg, penalty = \"none\", max_iter = 1e3)\n",
    "        plr.fit(X_train, y_train)\n",
    "\n",
    "        to_add = pd.DataFrame({\"deg\" : [deg],\n",
    "                               \"train\" : [plr.score(X_train, y_train)],\n",
    "                               \"test\" : [plr.score(X_test, y_test)]})\n",
    "\n",
    "        df = pd.concat((df, to_add))\n",
    "        \n",
    "means = df.groupby(\"deg\").mean().reset_index()\n",
    "\n",
    "plt.plot(means[\"deg\"], means[\"train\"], label = \"training\")\n",
    "plt.plot(means[\"deg\"], means[\"test\"], label = \"validation\")\n",
    "plt.legend()\n",
    "labs = plt.gca().set(xlabel = \"Degree of polynomial feature\",\n",
    "              ylabel = \"Accuracy (mean over 20 runs)\")"
   ]
  },
  {
   "cell_type": "markdown",
   "metadata": {},
   "source": [
    "We observe that there is an optimal number of features for which the model is most able to generalize: around 3 or so. More features than that is actually *harmful* to the model's predictive performance. \n",
    "\n",
    "So, one way to promote generalization is to try to find \"the right\" or \"the right number\" of features and use them for prediction. This problem is often called **feature selection**. \n",
    "\n",
    "Another common approach to avoid overfitting is called *regularization*. In regularization, we actually modify the empirical risk objective function that is to be minimized. Instead of trying to minimize @eq-empirical-risk-minimization, we instead consider the modified objective function \n",
    "$$\n",
    "L'(\\vw) = L(\\vw) + \\lambda R(\\vw)\\;,\n",
    "$$\n",
    "where $\\lambda$ is a *regularization strength* and $R(\\vw)$ is a *regularization function* that aims to influence the entries of $\\vw$ in some way. Common choices of regularization function include the Euclidean norm $R(\\vw) = \\norm{\\vw}_2^2$ and the $\\ell_1$ norm $R(\\vw) = \\sum_{j = 1}^p \\abs{x_j}$. To see regularization in action, let's go back to our logistic regression model with a large number of polynomial features. We can see the presence of overfitting in the excessive \"wiggliness\" of the decision boundary. "
   ]
  },
  {
   "cell_type": "code",
   "execution_count": null,
   "metadata": {},
   "outputs": [],
   "source": [
    "#\n",
    "#\n",
    "#"
   ]
  },
  {
   "cell_type": "markdown",
   "metadata": {},
   "source": [
    "Fortunately for us, we can actually use regularization directly from inside the `scikit-learn` implementation of `LogisticRegression`. We specify the penalty (the $\\ell_1$ regularization), the strength of the penalty (in the `scikit-learn` implementation, you specify $C = \\frac{1}{\\lambda}$ so that larger $C$ means less regularization) and the optimization solver (not all solvers work with all penalties).  "
   ]
  },
  {
   "cell_type": "code",
   "execution_count": null,
   "metadata": {},
   "outputs": [],
   "source": [
    "#\n",
    "#\n",
    "#"
   ]
  },
  {
   "cell_type": "markdown",
   "metadata": {},
   "source": [
    "This looks more likely to generalize! We can also increase the regularization: "
   ]
  },
  {
   "cell_type": "code",
   "execution_count": null,
   "metadata": {},
   "outputs": [],
   "source": [
    "#\n",
    "#\n",
    "#"
   ]
  },
  {
   "cell_type": "markdown",
   "metadata": {},
   "source": [
    "or decrease it: "
   ]
  },
  {
   "cell_type": "code",
   "execution_count": null,
   "metadata": {},
   "outputs": [],
   "source": [
    "#\n",
    "#\n",
    "#"
   ]
  },
  {
   "cell_type": "markdown",
   "metadata": {},
   "source": [
    "Like last time, we can conduct a search (often called a grid-search) to find the best value of the regularization strength for a given problem. We'll hold fixed the number of features, and instead vary the regularization strength:  "
   ]
  },
  {
   "cell_type": "code",
   "execution_count": null,
   "metadata": {},
   "outputs": [],
   "source": [
    "np.random.seed()\n",
    "\n",
    "C = 10.0**np.arange(-4, 5)\n",
    "\n",
    "df = pd.DataFrame({\"C\": [], \"train\" : [], \"test\" : []})\n",
    "\n",
    "for rep in range(10):\n",
    "    X_train, y_train = make_moons(100, shuffle = True, noise = .3)\n",
    "    X_test, y_test = make_moons(100, shuffle = True, noise = .3)\n",
    "\n",
    "    for c in C:\n",
    "        plr = poly_LR(degree = 15, penalty = \"l1\", solver = \"liblinear\", C = c)\n",
    "\n",
    "        plr.fit(X_train, y_train)\n",
    "\n",
    "        to_add = pd.DataFrame({\"C\" : [c],\n",
    "                               \"train\" : [plr.score(X_train, y_train)],\n",
    "                               \"test\" : [plr.score(X_test, y_test)]})\n",
    "\n",
    "        df = pd.concat((df, to_add))\n",
    "     \n",
    "means = df.groupby(\"C\").mean().reset_index()\n",
    "\n",
    "plt.plot(means[\"C\"], means[\"train\"], label = \"training\")\n",
    "plt.plot(means[\"C\"], means[\"test\"], label = \"validation\")\n",
    "plt.semilogx()\n",
    "plt.legend()\n",
    "labs = plt.gca().set(xlabel = \"C\",\n",
    "              ylabel = \"Accuracy (mean over 20 runs)\")"
   ]
  },
  {
   "cell_type": "markdown",
   "metadata": {},
   "source": [
    "Using 15 features, it looks like a regularization strength of approximately $C = 10$ is a good choice for this problem.  "
   ]
  }
 ],
 "metadata": {
  "kernelspec": {
   "display_name": "Python 3 (ipykernel)",
   "language": "python",
   "name": "python3"
  },
  "language_info": {
   "codemirror_mode": {
    "name": "ipython",
    "version": 3
   },
   "file_extension": ".py",
   "mimetype": "text/x-python",
   "name": "python",
   "nbconvert_exporter": "python",
   "pygments_lexer": "ipython3",
   "version": "3.9.13"
  },
  "vscode": {
   "interpreter": {
    "hash": "5c7b89af1651d0b8571dde13640ecdccf7d5a6204171d6ab33e7c296e100e08a"
   }
  }
 },
 "nbformat": 4,
 "nbformat_minor": 4
}
